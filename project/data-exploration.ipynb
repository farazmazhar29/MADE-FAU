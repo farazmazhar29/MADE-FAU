{
 "cells": [
  {
   "cell_type": "code",
   "execution_count": 1,
   "metadata": {
    "collapsed": true,
    "ExecuteTime": {
     "end_time": "2023-12-29T22:41:33.373189Z",
     "start_time": "2023-12-29T22:41:33.310655600Z"
    }
   },
   "outputs": [],
   "source": [
    "import os\n",
    "from scipy.stats import pearsonr\n",
    "import pandas as pd\n",
    "import seaborn as sns\n",
    "import matplotlib.pyplot as plt\n",
    "from scipy.stats import pointbiserialr"
   ]
  },
  {
   "cell_type": "code",
   "execution_count": 2,
   "outputs": [],
   "source": [
    "downloadDir = '../data/raw'\n",
    "\n",
    "# Load datasets into pandas DataFrames\n",
    "ckd_df = pd.read_csv(downloadDir + \"/ChronicKidneyDisease_EHRs_from_AbuDhabi.csv\")\n",
    "hepatitis_c_df = pd.read_csv(downloadDir + \"/hepatitis_C_EHRs_Japan.csv\")\n",
    "arterial_disease_ibd_df = pd.read_csv(downloadDir + \"/arterial_disease_and_IBD_EHRs_from_France.csv\")"
   ],
   "metadata": {
    "collapsed": false,
    "ExecuteTime": {
     "end_time": "2023-12-29T22:42:02.280510500Z",
     "start_time": "2023-12-29T22:42:02.265213900Z"
    }
   }
  },
  {
   "cell_type": "markdown",
   "source": [
    "# Chronic Kidney Disease (CKD) Dataset:"
   ],
   "metadata": {
    "collapsed": false
   }
  },
  {
   "cell_type": "code",
   "execution_count": 9,
   "outputs": [
    {
     "data": {
      "text/plain": "   Sex  AgeBaseline  HistoryDiabetes  HistoryCHD  HistoryVascular  \\\n0    0           64                0           0                0   \n1    0           52                0           0                0   \n2    0           56                0           0                0   \n3    0           58                0           0                0   \n4    0           63                1           0                0   \n\n   HistorySmoking  HistoryHTN   HistoryDLD  HistoryObesity  DLDmeds  ...  \\\n0               0            1           1               1        1  ...   \n1               0            1           1               1        0  ...   \n2               0            1           1               1        1  ...   \n3               0            0           1               1        1  ...   \n4               0            1           1               1        1  ...   \n\n   ACEIARB  CholesterolBaseline  CreatinineBaseline  eGFRBaseline  \\\n0        0                  4.8                59.0          93.3   \n1        0                  6.4                52.0         105.8   \n2        0                  6.4                57.0          99.8   \n3        0                  5.1                65.0          90.3   \n4        1                  5.0                70.0          79.7   \n\n   sBPBaseline  dBPBaseline  BMIBaseline  TimeToEventMonths  EventCKD35  \\\n0          144           87           40                 98           0   \n1          148           91           45                106           0   \n2          149           86           41                 88           0   \n3          116           68           32                103           0   \n4          132           63           31                105           0   \n\n   TIME_YEAR  \n0          8  \n1          9  \n2          7  \n3          9  \n4          9  \n\n[5 rows x 22 columns]",
      "text/html": "<div>\n<style scoped>\n    .dataframe tbody tr th:only-of-type {\n        vertical-align: middle;\n    }\n\n    .dataframe tbody tr th {\n        vertical-align: top;\n    }\n\n    .dataframe thead th {\n        text-align: right;\n    }\n</style>\n<table border=\"1\" class=\"dataframe\">\n  <thead>\n    <tr style=\"text-align: right;\">\n      <th></th>\n      <th>Sex</th>\n      <th>AgeBaseline</th>\n      <th>HistoryDiabetes</th>\n      <th>HistoryCHD</th>\n      <th>HistoryVascular</th>\n      <th>HistorySmoking</th>\n      <th>HistoryHTN</th>\n      <th>HistoryDLD</th>\n      <th>HistoryObesity</th>\n      <th>DLDmeds</th>\n      <th>...</th>\n      <th>ACEIARB</th>\n      <th>CholesterolBaseline</th>\n      <th>CreatinineBaseline</th>\n      <th>eGFRBaseline</th>\n      <th>sBPBaseline</th>\n      <th>dBPBaseline</th>\n      <th>BMIBaseline</th>\n      <th>TimeToEventMonths</th>\n      <th>EventCKD35</th>\n      <th>TIME_YEAR</th>\n    </tr>\n  </thead>\n  <tbody>\n    <tr>\n      <th>0</th>\n      <td>0</td>\n      <td>64</td>\n      <td>0</td>\n      <td>0</td>\n      <td>0</td>\n      <td>0</td>\n      <td>1</td>\n      <td>1</td>\n      <td>1</td>\n      <td>1</td>\n      <td>...</td>\n      <td>0</td>\n      <td>4.8</td>\n      <td>59.0</td>\n      <td>93.3</td>\n      <td>144</td>\n      <td>87</td>\n      <td>40</td>\n      <td>98</td>\n      <td>0</td>\n      <td>8</td>\n    </tr>\n    <tr>\n      <th>1</th>\n      <td>0</td>\n      <td>52</td>\n      <td>0</td>\n      <td>0</td>\n      <td>0</td>\n      <td>0</td>\n      <td>1</td>\n      <td>1</td>\n      <td>1</td>\n      <td>0</td>\n      <td>...</td>\n      <td>0</td>\n      <td>6.4</td>\n      <td>52.0</td>\n      <td>105.8</td>\n      <td>148</td>\n      <td>91</td>\n      <td>45</td>\n      <td>106</td>\n      <td>0</td>\n      <td>9</td>\n    </tr>\n    <tr>\n      <th>2</th>\n      <td>0</td>\n      <td>56</td>\n      <td>0</td>\n      <td>0</td>\n      <td>0</td>\n      <td>0</td>\n      <td>1</td>\n      <td>1</td>\n      <td>1</td>\n      <td>1</td>\n      <td>...</td>\n      <td>0</td>\n      <td>6.4</td>\n      <td>57.0</td>\n      <td>99.8</td>\n      <td>149</td>\n      <td>86</td>\n      <td>41</td>\n      <td>88</td>\n      <td>0</td>\n      <td>7</td>\n    </tr>\n    <tr>\n      <th>3</th>\n      <td>0</td>\n      <td>58</td>\n      <td>0</td>\n      <td>0</td>\n      <td>0</td>\n      <td>0</td>\n      <td>0</td>\n      <td>1</td>\n      <td>1</td>\n      <td>1</td>\n      <td>...</td>\n      <td>0</td>\n      <td>5.1</td>\n      <td>65.0</td>\n      <td>90.3</td>\n      <td>116</td>\n      <td>68</td>\n      <td>32</td>\n      <td>103</td>\n      <td>0</td>\n      <td>9</td>\n    </tr>\n    <tr>\n      <th>4</th>\n      <td>0</td>\n      <td>63</td>\n      <td>1</td>\n      <td>0</td>\n      <td>0</td>\n      <td>0</td>\n      <td>1</td>\n      <td>1</td>\n      <td>1</td>\n      <td>1</td>\n      <td>...</td>\n      <td>1</td>\n      <td>5.0</td>\n      <td>70.0</td>\n      <td>79.7</td>\n      <td>132</td>\n      <td>63</td>\n      <td>31</td>\n      <td>105</td>\n      <td>0</td>\n      <td>9</td>\n    </tr>\n  </tbody>\n</table>\n<p>5 rows × 22 columns</p>\n</div>"
     },
     "metadata": {},
     "output_type": "display_data"
    },
    {
     "name": "stdout",
     "output_type": "stream",
     "text": [
      "<class 'pandas.core.frame.DataFrame'>\n",
      "RangeIndex: 491 entries, 0 to 490\n",
      "Data columns (total 22 columns):\n",
      " #   Column               Non-Null Count  Dtype  \n",
      "---  ------               --------------  -----  \n",
      " 0   Sex                  491 non-null    int64  \n",
      " 1   AgeBaseline          491 non-null    int64  \n",
      " 2   HistoryDiabetes      491 non-null    int64  \n",
      " 3   HistoryCHD           491 non-null    int64  \n",
      " 4   HistoryVascular      491 non-null    int64  \n",
      " 5   HistorySmoking       491 non-null    int64  \n",
      " 6   HistoryHTN           491 non-null    int64  \n",
      " 7   HistoryDLD           491 non-null    int64  \n",
      " 8   HistoryObesity       491 non-null    int64  \n",
      " 9   DLDmeds              491 non-null    int64  \n",
      " 10  DMmeds               491 non-null    int64  \n",
      " 11  HTNmeds              491 non-null    int64  \n",
      " 12  ACEIARB              491 non-null    int64  \n",
      " 13  CholesterolBaseline  491 non-null    float64\n",
      " 14  CreatinineBaseline   491 non-null    float64\n",
      " 15  eGFRBaseline         491 non-null    float64\n",
      " 16  sBPBaseline          491 non-null    int64  \n",
      " 17  dBPBaseline          491 non-null    int64  \n",
      " 18  BMIBaseline          491 non-null    int64  \n",
      " 19  TimeToEventMonths    491 non-null    int64  \n",
      " 20  EventCKD35           491 non-null    int64  \n",
      " 21  TIME_YEAR            491 non-null    int64  \n",
      "dtypes: float64(3), int64(19)\n",
      "memory usage: 84.5 KB\n"
     ]
    },
    {
     "data": {
      "text/plain": "None"
     },
     "metadata": {},
     "output_type": "display_data"
    }
   ],
   "source": [
    "display(ckd_df.head())\n",
    "display(ckd_df.info())"
   ],
   "metadata": {
    "collapsed": false,
    "ExecuteTime": {
     "end_time": "2023-12-29T22:53:09.725440700Z",
     "start_time": "2023-12-29T22:53:09.705076Z"
    }
   }
  },
  {
   "cell_type": "markdown",
   "source": [
    "# Hepatitis C Dataset:"
   ],
   "metadata": {
    "collapsed": false
   }
  },
  {
   "cell_type": "code",
   "execution_count": 10,
   "outputs": [
    {
     "data": {
      "text/plain": "   cirrhosis  age  sex  cholesterol  triglyceride HDL   LDL  PathDiagNum  \\\n0          1   63    1          103           147  35  38.6            1   \n1          0   68    2          141            95  38    84            1   \n2          1   79    1          143            71  60  68.8            1   \n3          1   52    1          126            64  39  74.2            1   \n4          1   77    2          126            49  41  75.2            1   \n\n    BMI  ALT  AST  glucose  serogroup01  \n0  20.0   27   35      117          0.0  \n1  23.1   78   74       98          0.0  \n2  21.3   44   40       95          0.0  \n3  34.0   18   26      101          0.0  \n4  25.7  106   97      128          0.0  ",
      "text/html": "<div>\n<style scoped>\n    .dataframe tbody tr th:only-of-type {\n        vertical-align: middle;\n    }\n\n    .dataframe tbody tr th {\n        vertical-align: top;\n    }\n\n    .dataframe thead th {\n        text-align: right;\n    }\n</style>\n<table border=\"1\" class=\"dataframe\">\n  <thead>\n    <tr style=\"text-align: right;\">\n      <th></th>\n      <th>cirrhosis</th>\n      <th>age</th>\n      <th>sex</th>\n      <th>cholesterol</th>\n      <th>triglyceride</th>\n      <th>HDL</th>\n      <th>LDL</th>\n      <th>PathDiagNum</th>\n      <th>BMI</th>\n      <th>ALT</th>\n      <th>AST</th>\n      <th>glucose</th>\n      <th>serogroup01</th>\n    </tr>\n  </thead>\n  <tbody>\n    <tr>\n      <th>0</th>\n      <td>1</td>\n      <td>63</td>\n      <td>1</td>\n      <td>103</td>\n      <td>147</td>\n      <td>35</td>\n      <td>38.6</td>\n      <td>1</td>\n      <td>20.0</td>\n      <td>27</td>\n      <td>35</td>\n      <td>117</td>\n      <td>0.0</td>\n    </tr>\n    <tr>\n      <th>1</th>\n      <td>0</td>\n      <td>68</td>\n      <td>2</td>\n      <td>141</td>\n      <td>95</td>\n      <td>38</td>\n      <td>84</td>\n      <td>1</td>\n      <td>23.1</td>\n      <td>78</td>\n      <td>74</td>\n      <td>98</td>\n      <td>0.0</td>\n    </tr>\n    <tr>\n      <th>2</th>\n      <td>1</td>\n      <td>79</td>\n      <td>1</td>\n      <td>143</td>\n      <td>71</td>\n      <td>60</td>\n      <td>68.8</td>\n      <td>1</td>\n      <td>21.3</td>\n      <td>44</td>\n      <td>40</td>\n      <td>95</td>\n      <td>0.0</td>\n    </tr>\n    <tr>\n      <th>3</th>\n      <td>1</td>\n      <td>52</td>\n      <td>1</td>\n      <td>126</td>\n      <td>64</td>\n      <td>39</td>\n      <td>74.2</td>\n      <td>1</td>\n      <td>34.0</td>\n      <td>18</td>\n      <td>26</td>\n      <td>101</td>\n      <td>0.0</td>\n    </tr>\n    <tr>\n      <th>4</th>\n      <td>1</td>\n      <td>77</td>\n      <td>2</td>\n      <td>126</td>\n      <td>49</td>\n      <td>41</td>\n      <td>75.2</td>\n      <td>1</td>\n      <td>25.7</td>\n      <td>106</td>\n      <td>97</td>\n      <td>128</td>\n      <td>0.0</td>\n    </tr>\n  </tbody>\n</table>\n</div>"
     },
     "metadata": {},
     "output_type": "display_data"
    },
    {
     "name": "stdout",
     "output_type": "stream",
     "text": [
      "<class 'pandas.core.frame.DataFrame'>\n",
      "RangeIndex: 123 entries, 0 to 122\n",
      "Data columns (total 13 columns):\n",
      " #   Column        Non-Null Count  Dtype  \n",
      "---  ------        --------------  -----  \n",
      " 0   cirrhosis     123 non-null    int64  \n",
      " 1   age           123 non-null    int64  \n",
      " 2   sex           123 non-null    int64  \n",
      " 3   cholesterol   123 non-null    int64  \n",
      " 4   triglyceride  123 non-null    int64  \n",
      " 5   HDL           123 non-null    object \n",
      " 6   LDL           123 non-null    object \n",
      " 7   PathDiagNum   123 non-null    int64  \n",
      " 8   BMI           123 non-null    float64\n",
      " 9   ALT           123 non-null    int64  \n",
      " 10  AST           123 non-null    int64  \n",
      " 11  glucose       123 non-null    int64  \n",
      " 12  serogroup01   98 non-null     float64\n",
      "dtypes: float64(2), int64(9), object(2)\n",
      "memory usage: 12.6+ KB\n"
     ]
    },
    {
     "data": {
      "text/plain": "None"
     },
     "metadata": {},
     "output_type": "display_data"
    }
   ],
   "source": [
    "display(hepatitis_c_df.head())\n",
    "display(hepatitis_c_df.info())"
   ],
   "metadata": {
    "collapsed": false,
    "ExecuteTime": {
     "end_time": "2023-12-29T22:53:19.529516700Z",
     "start_time": "2023-12-29T22:53:19.513825800Z"
    }
   }
  },
  {
   "cell_type": "markdown",
   "source": [
    "# Arterial Disease and IBD Dataset:"
   ],
   "metadata": {
    "collapsed": false
   }
  },
  {
   "cell_type": "code",
   "execution_count": 11,
   "outputs": [
    {
     "data": {
      "text/plain": "   smoker  arterial_hypertension  diabetes  dyslipidemia  \\\n0       1                      1         0             0   \n1       1                      0         0             0   \n2       1                      1         0             0   \n3       0                      1         0             0   \n4       1                      0         1             0   \n\n   CTC_1_0to20mgperday_2_over20mg  immunossupressants  TNFi  \\\n0                               0                   1     0   \n1                               0                   1     1   \n2                               1                   1     1   \n3                               0                   0     0   \n4                               1                   0     0   \n\n   meanCRP_over_5_in1y  meanCRP_over_5_in3y  Clinical_activity  \\\n0                    1                    1                  0   \n1                    1                    1                  0   \n2                    0                    0                  0   \n3                    1                    0                  0   \n4                    1                    1                  0   \n\n   sex_0female_1male  arterial_event  event_type_0ACS_1stroke  \n0                  0               1                      1.0  \n1                  0               0                      NaN  \n2                  0               0                      NaN  \n3                  1               1                      0.0  \n4                  1               0                      NaN  ",
      "text/html": "<div>\n<style scoped>\n    .dataframe tbody tr th:only-of-type {\n        vertical-align: middle;\n    }\n\n    .dataframe tbody tr th {\n        vertical-align: top;\n    }\n\n    .dataframe thead th {\n        text-align: right;\n    }\n</style>\n<table border=\"1\" class=\"dataframe\">\n  <thead>\n    <tr style=\"text-align: right;\">\n      <th></th>\n      <th>smoker</th>\n      <th>arterial_hypertension</th>\n      <th>diabetes</th>\n      <th>dyslipidemia</th>\n      <th>CTC_1_0to20mgperday_2_over20mg</th>\n      <th>immunossupressants</th>\n      <th>TNFi</th>\n      <th>meanCRP_over_5_in1y</th>\n      <th>meanCRP_over_5_in3y</th>\n      <th>Clinical_activity</th>\n      <th>sex_0female_1male</th>\n      <th>arterial_event</th>\n      <th>event_type_0ACS_1stroke</th>\n    </tr>\n  </thead>\n  <tbody>\n    <tr>\n      <th>0</th>\n      <td>1</td>\n      <td>1</td>\n      <td>0</td>\n      <td>0</td>\n      <td>0</td>\n      <td>1</td>\n      <td>0</td>\n      <td>1</td>\n      <td>1</td>\n      <td>0</td>\n      <td>0</td>\n      <td>1</td>\n      <td>1.0</td>\n    </tr>\n    <tr>\n      <th>1</th>\n      <td>1</td>\n      <td>0</td>\n      <td>0</td>\n      <td>0</td>\n      <td>0</td>\n      <td>1</td>\n      <td>1</td>\n      <td>1</td>\n      <td>1</td>\n      <td>0</td>\n      <td>0</td>\n      <td>0</td>\n      <td>NaN</td>\n    </tr>\n    <tr>\n      <th>2</th>\n      <td>1</td>\n      <td>1</td>\n      <td>0</td>\n      <td>0</td>\n      <td>1</td>\n      <td>1</td>\n      <td>1</td>\n      <td>0</td>\n      <td>0</td>\n      <td>0</td>\n      <td>0</td>\n      <td>0</td>\n      <td>NaN</td>\n    </tr>\n    <tr>\n      <th>3</th>\n      <td>0</td>\n      <td>1</td>\n      <td>0</td>\n      <td>0</td>\n      <td>0</td>\n      <td>0</td>\n      <td>0</td>\n      <td>1</td>\n      <td>0</td>\n      <td>0</td>\n      <td>1</td>\n      <td>1</td>\n      <td>0.0</td>\n    </tr>\n    <tr>\n      <th>4</th>\n      <td>1</td>\n      <td>0</td>\n      <td>1</td>\n      <td>0</td>\n      <td>1</td>\n      <td>0</td>\n      <td>0</td>\n      <td>1</td>\n      <td>1</td>\n      <td>0</td>\n      <td>1</td>\n      <td>0</td>\n      <td>NaN</td>\n    </tr>\n  </tbody>\n</table>\n</div>"
     },
     "metadata": {},
     "output_type": "display_data"
    },
    {
     "name": "stdout",
     "output_type": "stream",
     "text": [
      "<class 'pandas.core.frame.DataFrame'>\n",
      "RangeIndex: 90 entries, 0 to 89\n",
      "Data columns (total 13 columns):\n",
      " #   Column                          Non-Null Count  Dtype  \n",
      "---  ------                          --------------  -----  \n",
      " 0   smoker                          90 non-null     int64  \n",
      " 1   arterial_hypertension           90 non-null     int64  \n",
      " 2   diabetes                        90 non-null     int64  \n",
      " 3   dyslipidemia                    90 non-null     int64  \n",
      " 4   CTC_1_0to20mgperday_2_over20mg  90 non-null     int64  \n",
      " 5   immunossupressants              90 non-null     int64  \n",
      " 6   TNFi                            90 non-null     int64  \n",
      " 7   meanCRP_over_5_in1y             90 non-null     int64  \n",
      " 8   meanCRP_over_5_in3y             90 non-null     int64  \n",
      " 9   Clinical_activity               90 non-null     int64  \n",
      " 10  sex_0female_1male               90 non-null     int64  \n",
      " 11  arterial_event                  90 non-null     int64  \n",
      " 12  event_type_0ACS_1stroke         30 non-null     float64\n",
      "dtypes: float64(1), int64(12)\n",
      "memory usage: 9.3 KB\n"
     ]
    },
    {
     "data": {
      "text/plain": "None"
     },
     "metadata": {},
     "output_type": "display_data"
    }
   ],
   "source": [
    "display(arterial_disease_ibd_df.head())\n",
    "display(arterial_disease_ibd_df.info())"
   ],
   "metadata": {
    "collapsed": false,
    "ExecuteTime": {
     "end_time": "2023-12-29T22:53:27.946369200Z",
     "start_time": "2023-12-29T22:53:27.926145500Z"
    }
   }
  },
  {
   "cell_type": "markdown",
   "source": [
    "# Summary Statistics - CKD Dataset:"
   ],
   "metadata": {
    "collapsed": false
   }
  },
  {
   "cell_type": "code",
   "execution_count": 14,
   "outputs": [
    {
     "data": {
      "text/plain": "              Sex  AgeBaseline  HistoryDiabetes  HistoryCHD  HistoryVascular  \\\ncount  491.000000   491.000000       491.000000  491.000000       491.000000   \nmean     0.509165    53.203666         0.437882    0.091650         0.059063   \nstd      0.500426    13.821282         0.496632    0.288825         0.235983   \nmin      0.000000    23.000000         0.000000    0.000000         0.000000   \n25%      0.000000    44.000000         0.000000    0.000000         0.000000   \n50%      1.000000    54.000000         0.000000    0.000000         0.000000   \n75%      1.000000    64.000000         1.000000    0.000000         0.000000   \nmax      1.000000    89.000000         1.000000    1.000000         1.000000   \n\n       HistorySmoking  HistoryHTN   HistoryDLD  HistoryObesity     DLDmeds  \\\ncount      491.000000   491.000000  491.000000      491.000000  491.000000   \nmean         0.152749     0.682281    0.645621        0.505092    0.551935   \nstd          0.360113     0.466064    0.478812        0.500484    0.497803   \nmin          0.000000     0.000000    0.000000        0.000000    0.000000   \n25%          0.000000     0.000000    0.000000        0.000000    0.000000   \n50%          0.000000     1.000000    1.000000        1.000000    1.000000   \n75%          0.000000     1.000000    1.000000        1.000000    1.000000   \nmax          1.000000     1.000000    1.000000        1.000000    1.000000   \n\n       ...     ACEIARB  CholesterolBaseline  CreatinineBaseline  eGFRBaseline  \\\ncount  ...  491.000000           491.000000          491.000000    491.000000   \nmean   ...    0.446029             4.978574           67.856823     98.116090   \nstd    ...    0.497586             1.096702           17.918627     18.503267   \nmin    ...    0.000000             2.230000            6.000000     60.000000   \n25%    ...    0.000000             4.200000           55.000000     86.400000   \n50%    ...    0.000000             5.000000           66.000000     98.100000   \n75%    ...    1.000000             5.770000           78.500000    109.500000   \nmax    ...    1.000000             9.300000          123.000000    242.600000   \n\n       sBPBaseline  dBPBaseline  BMIBaseline  TimeToEventMonths  EventCKD35  \\\ncount   491.000000   491.000000   491.000000         491.000000  491.000000   \nmean    131.374745    76.871690    30.183299          83.065173    0.114053   \nstd      15.692650    10.711134     6.236742          26.011140    0.318200   \nmin      92.000000    41.000000    13.000000           0.000000    0.000000   \n25%     121.000000    69.000000    26.000000          77.000000    0.000000   \n50%     131.000000    77.000000    30.000000          93.000000    0.000000   \n75%     141.000000    83.000000    33.000000         100.000000    0.000000   \nmax     180.000000   112.000000    57.000000         111.000000    1.000000   \n\n        TIME_YEAR  \ncount  491.000000  \nmean     6.940937  \nstd      2.201710  \nmin      0.000000  \n25%      6.000000  \n50%      8.000000  \n75%      8.000000  \nmax      9.000000  \n\n[8 rows x 22 columns]",
      "text/html": "<div>\n<style scoped>\n    .dataframe tbody tr th:only-of-type {\n        vertical-align: middle;\n    }\n\n    .dataframe tbody tr th {\n        vertical-align: top;\n    }\n\n    .dataframe thead th {\n        text-align: right;\n    }\n</style>\n<table border=\"1\" class=\"dataframe\">\n  <thead>\n    <tr style=\"text-align: right;\">\n      <th></th>\n      <th>Sex</th>\n      <th>AgeBaseline</th>\n      <th>HistoryDiabetes</th>\n      <th>HistoryCHD</th>\n      <th>HistoryVascular</th>\n      <th>HistorySmoking</th>\n      <th>HistoryHTN</th>\n      <th>HistoryDLD</th>\n      <th>HistoryObesity</th>\n      <th>DLDmeds</th>\n      <th>...</th>\n      <th>ACEIARB</th>\n      <th>CholesterolBaseline</th>\n      <th>CreatinineBaseline</th>\n      <th>eGFRBaseline</th>\n      <th>sBPBaseline</th>\n      <th>dBPBaseline</th>\n      <th>BMIBaseline</th>\n      <th>TimeToEventMonths</th>\n      <th>EventCKD35</th>\n      <th>TIME_YEAR</th>\n    </tr>\n  </thead>\n  <tbody>\n    <tr>\n      <th>count</th>\n      <td>491.000000</td>\n      <td>491.000000</td>\n      <td>491.000000</td>\n      <td>491.000000</td>\n      <td>491.000000</td>\n      <td>491.000000</td>\n      <td>491.000000</td>\n      <td>491.000000</td>\n      <td>491.000000</td>\n      <td>491.000000</td>\n      <td>...</td>\n      <td>491.000000</td>\n      <td>491.000000</td>\n      <td>491.000000</td>\n      <td>491.000000</td>\n      <td>491.000000</td>\n      <td>491.000000</td>\n      <td>491.000000</td>\n      <td>491.000000</td>\n      <td>491.000000</td>\n      <td>491.000000</td>\n    </tr>\n    <tr>\n      <th>mean</th>\n      <td>0.509165</td>\n      <td>53.203666</td>\n      <td>0.437882</td>\n      <td>0.091650</td>\n      <td>0.059063</td>\n      <td>0.152749</td>\n      <td>0.682281</td>\n      <td>0.645621</td>\n      <td>0.505092</td>\n      <td>0.551935</td>\n      <td>...</td>\n      <td>0.446029</td>\n      <td>4.978574</td>\n      <td>67.856823</td>\n      <td>98.116090</td>\n      <td>131.374745</td>\n      <td>76.871690</td>\n      <td>30.183299</td>\n      <td>83.065173</td>\n      <td>0.114053</td>\n      <td>6.940937</td>\n    </tr>\n    <tr>\n      <th>std</th>\n      <td>0.500426</td>\n      <td>13.821282</td>\n      <td>0.496632</td>\n      <td>0.288825</td>\n      <td>0.235983</td>\n      <td>0.360113</td>\n      <td>0.466064</td>\n      <td>0.478812</td>\n      <td>0.500484</td>\n      <td>0.497803</td>\n      <td>...</td>\n      <td>0.497586</td>\n      <td>1.096702</td>\n      <td>17.918627</td>\n      <td>18.503267</td>\n      <td>15.692650</td>\n      <td>10.711134</td>\n      <td>6.236742</td>\n      <td>26.011140</td>\n      <td>0.318200</td>\n      <td>2.201710</td>\n    </tr>\n    <tr>\n      <th>min</th>\n      <td>0.000000</td>\n      <td>23.000000</td>\n      <td>0.000000</td>\n      <td>0.000000</td>\n      <td>0.000000</td>\n      <td>0.000000</td>\n      <td>0.000000</td>\n      <td>0.000000</td>\n      <td>0.000000</td>\n      <td>0.000000</td>\n      <td>...</td>\n      <td>0.000000</td>\n      <td>2.230000</td>\n      <td>6.000000</td>\n      <td>60.000000</td>\n      <td>92.000000</td>\n      <td>41.000000</td>\n      <td>13.000000</td>\n      <td>0.000000</td>\n      <td>0.000000</td>\n      <td>0.000000</td>\n    </tr>\n    <tr>\n      <th>25%</th>\n      <td>0.000000</td>\n      <td>44.000000</td>\n      <td>0.000000</td>\n      <td>0.000000</td>\n      <td>0.000000</td>\n      <td>0.000000</td>\n      <td>0.000000</td>\n      <td>0.000000</td>\n      <td>0.000000</td>\n      <td>0.000000</td>\n      <td>...</td>\n      <td>0.000000</td>\n      <td>4.200000</td>\n      <td>55.000000</td>\n      <td>86.400000</td>\n      <td>121.000000</td>\n      <td>69.000000</td>\n      <td>26.000000</td>\n      <td>77.000000</td>\n      <td>0.000000</td>\n      <td>6.000000</td>\n    </tr>\n    <tr>\n      <th>50%</th>\n      <td>1.000000</td>\n      <td>54.000000</td>\n      <td>0.000000</td>\n      <td>0.000000</td>\n      <td>0.000000</td>\n      <td>0.000000</td>\n      <td>1.000000</td>\n      <td>1.000000</td>\n      <td>1.000000</td>\n      <td>1.000000</td>\n      <td>...</td>\n      <td>0.000000</td>\n      <td>5.000000</td>\n      <td>66.000000</td>\n      <td>98.100000</td>\n      <td>131.000000</td>\n      <td>77.000000</td>\n      <td>30.000000</td>\n      <td>93.000000</td>\n      <td>0.000000</td>\n      <td>8.000000</td>\n    </tr>\n    <tr>\n      <th>75%</th>\n      <td>1.000000</td>\n      <td>64.000000</td>\n      <td>1.000000</td>\n      <td>0.000000</td>\n      <td>0.000000</td>\n      <td>0.000000</td>\n      <td>1.000000</td>\n      <td>1.000000</td>\n      <td>1.000000</td>\n      <td>1.000000</td>\n      <td>...</td>\n      <td>1.000000</td>\n      <td>5.770000</td>\n      <td>78.500000</td>\n      <td>109.500000</td>\n      <td>141.000000</td>\n      <td>83.000000</td>\n      <td>33.000000</td>\n      <td>100.000000</td>\n      <td>0.000000</td>\n      <td>8.000000</td>\n    </tr>\n    <tr>\n      <th>max</th>\n      <td>1.000000</td>\n      <td>89.000000</td>\n      <td>1.000000</td>\n      <td>1.000000</td>\n      <td>1.000000</td>\n      <td>1.000000</td>\n      <td>1.000000</td>\n      <td>1.000000</td>\n      <td>1.000000</td>\n      <td>1.000000</td>\n      <td>...</td>\n      <td>1.000000</td>\n      <td>9.300000</td>\n      <td>123.000000</td>\n      <td>242.600000</td>\n      <td>180.000000</td>\n      <td>112.000000</td>\n      <td>57.000000</td>\n      <td>111.000000</td>\n      <td>1.000000</td>\n      <td>9.000000</td>\n    </tr>\n  </tbody>\n</table>\n<p>8 rows × 22 columns</p>\n</div>"
     },
     "metadata": {},
     "output_type": "display_data"
    }
   ],
   "source": [
    "display(ckd_df.describe())"
   ],
   "metadata": {
    "collapsed": false,
    "ExecuteTime": {
     "end_time": "2023-12-29T23:00:37.868660700Z",
     "start_time": "2023-12-29T23:00:37.826252600Z"
    }
   }
  },
  {
   "cell_type": "markdown",
   "source": [
    "# Summary Statistics - Hepatitis C Dataset:"
   ],
   "metadata": {
    "collapsed": false
   }
  },
  {
   "cell_type": "code",
   "execution_count": 15,
   "outputs": [
    {
     "data": {
      "text/plain": "        cirrhosis         age         sex  cholesterol  triglyceride  \\\ncount  123.000000  123.000000  123.000000   123.000000    123.000000   \nmean     0.674797   69.577236    1.390244   158.983740     94.650407   \nstd      0.470367    7.824937    0.489800    95.856534     44.236507   \nmin      0.000000   50.000000    1.000000    86.000000     31.000000   \n25%      0.000000   63.000000    1.000000   126.000000     64.500000   \n50%      1.000000   70.000000    1.000000   146.000000     86.000000   \n75%      1.000000   76.000000    2.000000   170.000000    115.500000   \nmax      1.000000   86.000000    2.000000  1151.000000    367.000000   \n\n       PathDiagNum         BMI         ALT         AST     glucose  \\\ncount   123.000000  123.000000  123.000000  123.000000  123.000000   \nmean      0.845528   23.122195   57.934959   59.682927  124.894309   \nstd       0.362878    2.984334   37.274731   30.065043   44.256298   \nmin       0.000000   16.300000    9.000000   15.000000   72.000000   \n25%       1.000000   21.200000   32.000000   39.000000   96.000000   \n50%       1.000000   23.000000   45.000000   55.000000  113.000000   \n75%       1.000000   24.600000   75.500000   77.500000  143.500000   \nmax       1.000000   34.000000  225.000000  179.000000  321.000000   \n\n       serogroup01  \ncount    98.000000  \nmean      0.153061  \nstd       0.361898  \nmin       0.000000  \n25%       0.000000  \n50%       0.000000  \n75%       0.000000  \nmax       1.000000  ",
      "text/html": "<div>\n<style scoped>\n    .dataframe tbody tr th:only-of-type {\n        vertical-align: middle;\n    }\n\n    .dataframe tbody tr th {\n        vertical-align: top;\n    }\n\n    .dataframe thead th {\n        text-align: right;\n    }\n</style>\n<table border=\"1\" class=\"dataframe\">\n  <thead>\n    <tr style=\"text-align: right;\">\n      <th></th>\n      <th>cirrhosis</th>\n      <th>age</th>\n      <th>sex</th>\n      <th>cholesterol</th>\n      <th>triglyceride</th>\n      <th>PathDiagNum</th>\n      <th>BMI</th>\n      <th>ALT</th>\n      <th>AST</th>\n      <th>glucose</th>\n      <th>serogroup01</th>\n    </tr>\n  </thead>\n  <tbody>\n    <tr>\n      <th>count</th>\n      <td>123.000000</td>\n      <td>123.000000</td>\n      <td>123.000000</td>\n      <td>123.000000</td>\n      <td>123.000000</td>\n      <td>123.000000</td>\n      <td>123.000000</td>\n      <td>123.000000</td>\n      <td>123.000000</td>\n      <td>123.000000</td>\n      <td>98.000000</td>\n    </tr>\n    <tr>\n      <th>mean</th>\n      <td>0.674797</td>\n      <td>69.577236</td>\n      <td>1.390244</td>\n      <td>158.983740</td>\n      <td>94.650407</td>\n      <td>0.845528</td>\n      <td>23.122195</td>\n      <td>57.934959</td>\n      <td>59.682927</td>\n      <td>124.894309</td>\n      <td>0.153061</td>\n    </tr>\n    <tr>\n      <th>std</th>\n      <td>0.470367</td>\n      <td>7.824937</td>\n      <td>0.489800</td>\n      <td>95.856534</td>\n      <td>44.236507</td>\n      <td>0.362878</td>\n      <td>2.984334</td>\n      <td>37.274731</td>\n      <td>30.065043</td>\n      <td>44.256298</td>\n      <td>0.361898</td>\n    </tr>\n    <tr>\n      <th>min</th>\n      <td>0.000000</td>\n      <td>50.000000</td>\n      <td>1.000000</td>\n      <td>86.000000</td>\n      <td>31.000000</td>\n      <td>0.000000</td>\n      <td>16.300000</td>\n      <td>9.000000</td>\n      <td>15.000000</td>\n      <td>72.000000</td>\n      <td>0.000000</td>\n    </tr>\n    <tr>\n      <th>25%</th>\n      <td>0.000000</td>\n      <td>63.000000</td>\n      <td>1.000000</td>\n      <td>126.000000</td>\n      <td>64.500000</td>\n      <td>1.000000</td>\n      <td>21.200000</td>\n      <td>32.000000</td>\n      <td>39.000000</td>\n      <td>96.000000</td>\n      <td>0.000000</td>\n    </tr>\n    <tr>\n      <th>50%</th>\n      <td>1.000000</td>\n      <td>70.000000</td>\n      <td>1.000000</td>\n      <td>146.000000</td>\n      <td>86.000000</td>\n      <td>1.000000</td>\n      <td>23.000000</td>\n      <td>45.000000</td>\n      <td>55.000000</td>\n      <td>113.000000</td>\n      <td>0.000000</td>\n    </tr>\n    <tr>\n      <th>75%</th>\n      <td>1.000000</td>\n      <td>76.000000</td>\n      <td>2.000000</td>\n      <td>170.000000</td>\n      <td>115.500000</td>\n      <td>1.000000</td>\n      <td>24.600000</td>\n      <td>75.500000</td>\n      <td>77.500000</td>\n      <td>143.500000</td>\n      <td>0.000000</td>\n    </tr>\n    <tr>\n      <th>max</th>\n      <td>1.000000</td>\n      <td>86.000000</td>\n      <td>2.000000</td>\n      <td>1151.000000</td>\n      <td>367.000000</td>\n      <td>1.000000</td>\n      <td>34.000000</td>\n      <td>225.000000</td>\n      <td>179.000000</td>\n      <td>321.000000</td>\n      <td>1.000000</td>\n    </tr>\n  </tbody>\n</table>\n</div>"
     },
     "metadata": {},
     "output_type": "display_data"
    }
   ],
   "source": [
    "display(hepatitis_c_df.describe())"
   ],
   "metadata": {
    "collapsed": false,
    "ExecuteTime": {
     "end_time": "2023-12-29T23:00:41.094367800Z",
     "start_time": "2023-12-29T23:00:41.069904300Z"
    }
   }
  },
  {
   "cell_type": "markdown",
   "source": [
    "# Summary Statistics - Arterial Disease and IBD Dataset:"
   ],
   "metadata": {
    "collapsed": false
   }
  },
  {
   "cell_type": "code",
   "execution_count": 16,
   "outputs": [
    {
     "data": {
      "text/plain": "          smoker  arterial_hypertension   diabetes  dyslipidemia  \\\ncount  90.000000              90.000000  90.000000     90.000000   \nmean    0.422222               0.344444   0.100000      0.200000   \nstd     0.496681               0.477849   0.301681      0.402241   \nmin     0.000000               0.000000   0.000000      0.000000   \n25%     0.000000               0.000000   0.000000      0.000000   \n50%     0.000000               0.000000   0.000000      0.000000   \n75%     1.000000               1.000000   0.000000      0.000000   \nmax     1.000000               1.000000   1.000000      1.000000   \n\n       CTC_1_0to20mgperday_2_over20mg  immunossupressants       TNFi  \\\ncount                       90.000000           90.000000  90.000000   \nmean                         0.300000            0.288889   0.066667   \nstd                          0.507251            0.455785   0.250841   \nmin                          0.000000            0.000000   0.000000   \n25%                          0.000000            0.000000   0.000000   \n50%                          0.000000            0.000000   0.000000   \n75%                          1.000000            1.000000   0.000000   \nmax                          2.000000            1.000000   1.000000   \n\n       meanCRP_over_5_in1y  meanCRP_over_5_in3y  Clinical_activity  \\\ncount            90.000000            90.000000          90.000000   \nmean              0.433333             0.444444           0.266667   \nstd               0.498312             0.499688           0.444694   \nmin               0.000000             0.000000           0.000000   \n25%               0.000000             0.000000           0.000000   \n50%               0.000000             0.000000           0.000000   \n75%               1.000000             1.000000           1.000000   \nmax               1.000000             1.000000           1.000000   \n\n       sex_0female_1male  arterial_event  event_type_0ACS_1stroke  \ncount          90.000000       90.000000                30.000000  \nmean            0.588889        0.333333                 0.266667  \nstd             0.494792        0.474045                 0.449776  \nmin             0.000000        0.000000                 0.000000  \n25%             0.000000        0.000000                 0.000000  \n50%             1.000000        0.000000                 0.000000  \n75%             1.000000        1.000000                 0.750000  \nmax             1.000000        1.000000                 1.000000  ",
      "text/html": "<div>\n<style scoped>\n    .dataframe tbody tr th:only-of-type {\n        vertical-align: middle;\n    }\n\n    .dataframe tbody tr th {\n        vertical-align: top;\n    }\n\n    .dataframe thead th {\n        text-align: right;\n    }\n</style>\n<table border=\"1\" class=\"dataframe\">\n  <thead>\n    <tr style=\"text-align: right;\">\n      <th></th>\n      <th>smoker</th>\n      <th>arterial_hypertension</th>\n      <th>diabetes</th>\n      <th>dyslipidemia</th>\n      <th>CTC_1_0to20mgperday_2_over20mg</th>\n      <th>immunossupressants</th>\n      <th>TNFi</th>\n      <th>meanCRP_over_5_in1y</th>\n      <th>meanCRP_over_5_in3y</th>\n      <th>Clinical_activity</th>\n      <th>sex_0female_1male</th>\n      <th>arterial_event</th>\n      <th>event_type_0ACS_1stroke</th>\n    </tr>\n  </thead>\n  <tbody>\n    <tr>\n      <th>count</th>\n      <td>90.000000</td>\n      <td>90.000000</td>\n      <td>90.000000</td>\n      <td>90.000000</td>\n      <td>90.000000</td>\n      <td>90.000000</td>\n      <td>90.000000</td>\n      <td>90.000000</td>\n      <td>90.000000</td>\n      <td>90.000000</td>\n      <td>90.000000</td>\n      <td>90.000000</td>\n      <td>30.000000</td>\n    </tr>\n    <tr>\n      <th>mean</th>\n      <td>0.422222</td>\n      <td>0.344444</td>\n      <td>0.100000</td>\n      <td>0.200000</td>\n      <td>0.300000</td>\n      <td>0.288889</td>\n      <td>0.066667</td>\n      <td>0.433333</td>\n      <td>0.444444</td>\n      <td>0.266667</td>\n      <td>0.588889</td>\n      <td>0.333333</td>\n      <td>0.266667</td>\n    </tr>\n    <tr>\n      <th>std</th>\n      <td>0.496681</td>\n      <td>0.477849</td>\n      <td>0.301681</td>\n      <td>0.402241</td>\n      <td>0.507251</td>\n      <td>0.455785</td>\n      <td>0.250841</td>\n      <td>0.498312</td>\n      <td>0.499688</td>\n      <td>0.444694</td>\n      <td>0.494792</td>\n      <td>0.474045</td>\n      <td>0.449776</td>\n    </tr>\n    <tr>\n      <th>min</th>\n      <td>0.000000</td>\n      <td>0.000000</td>\n      <td>0.000000</td>\n      <td>0.000000</td>\n      <td>0.000000</td>\n      <td>0.000000</td>\n      <td>0.000000</td>\n      <td>0.000000</td>\n      <td>0.000000</td>\n      <td>0.000000</td>\n      <td>0.000000</td>\n      <td>0.000000</td>\n      <td>0.000000</td>\n    </tr>\n    <tr>\n      <th>25%</th>\n      <td>0.000000</td>\n      <td>0.000000</td>\n      <td>0.000000</td>\n      <td>0.000000</td>\n      <td>0.000000</td>\n      <td>0.000000</td>\n      <td>0.000000</td>\n      <td>0.000000</td>\n      <td>0.000000</td>\n      <td>0.000000</td>\n      <td>0.000000</td>\n      <td>0.000000</td>\n      <td>0.000000</td>\n    </tr>\n    <tr>\n      <th>50%</th>\n      <td>0.000000</td>\n      <td>0.000000</td>\n      <td>0.000000</td>\n      <td>0.000000</td>\n      <td>0.000000</td>\n      <td>0.000000</td>\n      <td>0.000000</td>\n      <td>0.000000</td>\n      <td>0.000000</td>\n      <td>0.000000</td>\n      <td>1.000000</td>\n      <td>0.000000</td>\n      <td>0.000000</td>\n    </tr>\n    <tr>\n      <th>75%</th>\n      <td>1.000000</td>\n      <td>1.000000</td>\n      <td>0.000000</td>\n      <td>0.000000</td>\n      <td>1.000000</td>\n      <td>1.000000</td>\n      <td>0.000000</td>\n      <td>1.000000</td>\n      <td>1.000000</td>\n      <td>1.000000</td>\n      <td>1.000000</td>\n      <td>1.000000</td>\n      <td>0.750000</td>\n    </tr>\n    <tr>\n      <th>max</th>\n      <td>1.000000</td>\n      <td>1.000000</td>\n      <td>1.000000</td>\n      <td>1.000000</td>\n      <td>2.000000</td>\n      <td>1.000000</td>\n      <td>1.000000</td>\n      <td>1.000000</td>\n      <td>1.000000</td>\n      <td>1.000000</td>\n      <td>1.000000</td>\n      <td>1.000000</td>\n      <td>1.000000</td>\n    </tr>\n  </tbody>\n</table>\n</div>"
     },
     "metadata": {},
     "output_type": "display_data"
    }
   ],
   "source": [
    "display(arterial_disease_ibd_df.describe())"
   ],
   "metadata": {
    "collapsed": false,
    "ExecuteTime": {
     "end_time": "2023-12-29T23:00:51.281357800Z",
     "start_time": "2023-12-29T23:00:51.258982Z"
    }
   }
  },
  {
   "cell_type": "code",
   "execution_count": null,
   "outputs": [],
   "source": [],
   "metadata": {
    "collapsed": false
   }
  }
 ],
 "metadata": {
  "kernelspec": {
   "display_name": "Python 3",
   "language": "python",
   "name": "python3"
  },
  "language_info": {
   "codemirror_mode": {
    "name": "ipython",
    "version": 2
   },
   "file_extension": ".py",
   "mimetype": "text/x-python",
   "name": "python",
   "nbconvert_exporter": "python",
   "pygments_lexer": "ipython2",
   "version": "2.7.6"
  }
 },
 "nbformat": 4,
 "nbformat_minor": 0
}
